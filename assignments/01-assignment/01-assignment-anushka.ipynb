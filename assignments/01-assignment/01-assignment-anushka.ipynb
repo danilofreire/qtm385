{
 "cells": [
  {
   "cell_type": "markdown",
   "metadata": {},
   "source": [
    "# QTM 385 - Experimental Methods\n",
    "\n",
    "# Assignment 01\n",
    "\n",
    "### Instructions\n",
    "\n",
    "This assignment covers the first two classes of the course. It consists of 10 questions, each worth one point, about the fundamentals of randomised experiments and the use of theory in experimental research. You can answer the questions in any format you prefer, but I recommend using either Jupyter Notebook or PDF, as they are easier to read on Canvas. Please write at least two paragraphs for each written question.\n",
    "\n",
    "If you have any questions about the assignment, feel free to email me at <danilo.freire@emory.edu>.\n",
    "\n",
    "Good luck!"
   ]
  },
  {
   "cell_type": "markdown",
   "metadata": {},
   "source": [
    "### Questions"
   ]
  },
  {
   "cell_type": "markdown",
   "metadata": {},
   "source": [
    "1. What is the purpose of pre-registration in experimental research?\n",
    "\n",
    "A) To ensure that researchers can change their hypotheses after seeing the data\n",
    "\n",
    "B) To reduce bias and improve the credibility of research findings\n",
    "\n",
    "C) To make the research process faster\n",
    "\n",
    "D) To avoid the need for peer review"
   ]
  },
  {
   "cell_type": "markdown",
   "metadata": {},
   "source": [
    "#### B) there are a lot of issues with bias due to tweaking experiments to try and get significant results. Pre registration forces people to state their plans before they get any results, so there are less chances of p hacking and false positives. "
   ]
  },
  {
   "cell_type": "markdown",
   "metadata": {},
   "source": [
    "2. Which of the following is an example of a causal question?\n",
    "\n",
    "A) How do teachers allocate their time during a school day?\n",
    "\n",
    "B) Does providing vocational training to migrants improve their economic integration?\n",
    "\n",
    "C) What is the average income of migrants in a country?\n",
    "\n",
    "D) How many people in a country are unemployed?"
   ]
  },
  {
   "cell_type": "markdown",
   "metadata": {},
   "source": [
    "#### B) how does X (vocational training) affect Y (economic integration of immigrants)"
   ]
  },
  {
   "cell_type": "markdown",
   "metadata": {},
   "source": [
    "3. Critique the following statement: \"_Cities with more ice cream vendors have higher crime rates, so reducing ice cream sales will lower crime_.\" Explain why this correlation does not imply causation. Propose two plausible confounding variables that could explain the relationship, and design a hypothetical experiment to test one of these variables."
   ]
  },
  {
   "cell_type": "markdown",
   "metadata": {},
   "source": [
    "#### There is no plausible mechanism linking ice cream and crime rates, and no evidence that an increase in ice cream sales is responsible for an increase in higher crime rates. \n",
    "\n",
    "# two possible confounding variables: city population ( cities with more population density tend to attract more crime) and warm weather (more people want ice cream when its hot, and more people are also outside when its hot)\n",
    "\n",
    "## a more realistic experiment: testing a link between crime and population, by choosing one big city and one small city to compare the crime rates of - and both of them have the same amount of ice cream vendors. This would ensure that population density isn't a confounding variable. "
   ]
  },
  {
   "cell_type": "markdown",
   "metadata": {},
   "source": [
    "4. A 2022 study found that only 30% of psychology experiments could be replicated. Analyse two systemic incentives in academia that contribute to this crisis."
   ]
  },
  {
   "cell_type": "markdown",
   "metadata": {},
   "source": [
    "### bias towards statistically significant results - changing up the specifications enough with one trial provide results worthy of publication, but it often isn't generalizable to the entire population ( ex asking 5 people how they voted and they all say yes - but 100% of all voters most likely didn't vote)\n",
    "\n",
    "## pressure to publish - many experimenters rely on publishing to advance their career and earn money. There is a higher incentive to produce statistically significant results as a result, even if it means cutting corners or falsifying results to get publication. "
   ]
  },
  {
   "cell_type": "markdown",
   "metadata": {},
   "source": [
    "5. Imagine you want to test the theory that \"_social media use decreases political polarisation_.\" How would this theory guide your choice of (a) treatment and (b) outcome measures? Which type of experimental design would you use to test this theory, and why?"
   ]
  },
  {
   "cell_type": "markdown",
   "metadata": {},
   "source": [
    "#### treatment: social media use - controlling the amount of exposure to social media that participants get - some might get none at all, some might get a little, and other may get a lot. Also, social media is very general - likely to be more helpful testing a few specific platforms, because the amount of political content and engagement varies \n",
    "\n",
    "## outcome measures: political polarisation - surveys can be taken before and after treatment to determine how participants feel about different political views, and how strongly they feel about politics in general. \n",
    "\n",
    "## I would use an RCT - chosing the participants randomly, chosing the amount of time spent on social media randomly, and chosing the platoform they use randomly. This would ensure that there isn't bias towards a specific demographic (ex: Twitter/X has a reputation for being far right and politically controversial, but that doesn't neccesarily mean that social media as a whole increases political polarisation)"
   ]
  },
  {
   "cell_type": "markdown",
   "metadata": {},
   "source": [
    "6. A lab experiment shows that a mindfulness app reduces stress in college students under controlled conditions. However, when tested in a real-world setting, the effect disappears. Explain how differences in internal versus external validity might explain this discrepancy. Propose one modification to the lab design to improve external validity without sacrificing internal validity."
   ]
  },
  {
   "cell_type": "markdown",
   "metadata": {},
   "source": [
    "#### internal validity is the extent to which the results are because of the treatment, while external validity is the extent that the results can be applied to other settings. \n",
    "\n",
    "## college students are often under a lot of academic stress, likely more than most adults with jobs. Additionally, these students are in controlled conditions and have an incentive to use this app (many such experiments pay participants), but for a busy person who isn't being rewarded by using this app, they likely wouldn't give it as much dedication. \n",
    "\n",
    "## the app could make features specified towards more general demographics - getting other ages besides college to test the app, and choosing people with varying levels of workload. If the mindfulness app still reduces stress, regardless of the participant's age or amount of stress , then it is more likely to be generalizable to the full population "
   ]
  },
  {
   "cell_type": "markdown",
   "metadata": {},
   "source": [
    "7. Pre-registration aims to reduce bias by committing researchers to a specific analysis plan. However, exploratory analysis is still valuable in science. Argue for or against the following statement: \"_Pre-registration stifles scientific creativity by limiting researchers' ability to pursue unexpected findings_.\""
   ]
  },
  {
   "cell_type": "markdown",
   "metadata": {},
   "source": [
    "#### I argue against this because researchers can still change the process of their experiments even after filing their initial plans. Because pre registered research is still publically avaliable, researchers may not have to worry as much about a lack of exposure regardless of their results. And in fact, by allowing others to look at null experiments, other researchers may be inspired to run similar experiments on their own that may have unexpected findings on the same topic. "
   ]
  },
  {
   "cell_type": "markdown",
   "metadata": {},
   "source": [
    "8. A voter turnout experiment designed in the USA is replicated in India, but the treatment (civic duty appeals) shows no effect. Identify two cultural factors that might explain this discrepancy. How would you redesign the study to improve cross-cultural validity?"
   ]
  },
  {
   "cell_type": "markdown",
   "metadata": {},
   "source": [
    "#### difference in social norms: the political climate in India is much different than that of the US. Emphasis is put more on a prime minister than a president, but Indian citizens don't have a say in the election of either - the president is elected by the house of parliament, and the prime minister is chosen by the president. While Indian citizens do have a say in some processes, like the Lok Sabha, those do not have as much power even within the parliament - so motivation to vote may not be as strong. \n",
    "\n",
    "#### different definition of civic duty: The American constituion's definition of civic duty tends to be toward the greater good of many, like being on a jury, voting, paying taxes, or community service. These often don't affect us directly, but are justified in helping society as a whole. Meanwhile, while India's fundamental duties overlap, the impact of British cololial rule has left India still grappling with issues like poverty, overpopulation, and a developing economy. Causes like these often affect citizens and their family directly -  hence it is understandable that people may consider their civic duty to prioritize the wellbeings of theirselves and loved ones, over doing things that may not affect them.\n",
    "\n",
    "## this can be redesigned by putting more emphasis on how the votes of Indian Citizens DO matter (the Lok Sabha has strength in numbers and can force the prime minister to resign) and theoretical candidates can focus their campaigns on things that would help with some of India's core problems. "
   ]
  },
  {
   "cell_type": "markdown",
   "metadata": {},
   "source": [
    "9. A study tests honesty by randomly telling participants they can cheat on a task without detection (when they are actually being monitored). Analyse two ethical concerns with this design, and propose alternatives to deception while maintaining the study's validity."
   ]
  },
  {
   "cell_type": "markdown",
   "metadata": {},
   "source": [
    "####  deception - This experiment is ironically violating the very thing it is design to test, by lying to participants about being monitered. Similar ideas have been tested before (ex: Stanford marshmallow experiment) but cheating, especially if in an academic setting, can lead to serious repercussions. \n",
    "\n",
    "### lack of informed consent - the participants agree to take part in this study without knowing they will be monitered. If they find out about it after the experiment, participants could even file lawsuits depending on the seriouness. \n",
    "\n",
    "## it is understandable why telling participants they are being monitered might cause bias towards not cheating> "
   ]
  },
  {
   "cell_type": "markdown",
   "metadata": {},
   "source": [
    "10. Natural experiments are often called the \"next best thing\" to RCTs. Explain two reasons why natural experiments may fail to meet the standards of RCTs."
   ]
  },
  {
   "cell_type": "markdown",
   "metadata": {},
   "source": [
    "#### 1) there is no random assignment, so there is a higher risk of confounding and biases\n",
    "\n",
    "#### 2) researchers cannot manipulate treatment/control natural influences, so it's harder to prove causality "
   ]
  },
  {
   "cell_type": "markdown",
   "metadata": {},
   "source": []
  }
 ],
 "metadata": {
  "kernelspec": {
   "display_name": "base",
   "language": "python",
   "name": "python3"
  },
  "language_info": {
   "codemirror_mode": {
    "name": "ipython",
    "version": 3
   },
   "file_extension": ".py",
   "mimetype": "text/x-python",
   "name": "python",
   "nbconvert_exporter": "python",
   "pygments_lexer": "ipython3",
   "version": "3.12.7"
  }
 },
 "nbformat": 4,
 "nbformat_minor": 2
}
